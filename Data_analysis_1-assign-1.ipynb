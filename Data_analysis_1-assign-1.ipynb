{
 "cells": [
  {
   "cell_type": "markdown",
   "metadata": {},
   "source": [
    "# Arindam_DTU_1"
   ]
  },
  {
   "cell_type": "markdown",
   "metadata": {},
   "source": [
    "#### Import Libraries"
   ]
  },
  {
   "cell_type": "code",
   "execution_count": 2,
   "metadata": {},
   "outputs": [],
   "source": [
    "import pandas as pd\n",
    "import numpy as np\n",
    "import matplotlib.pyplot as plt\n",
    "import seaborn as sns\n",
    "import plotly           #(version 4.5.0)\n",
    "import plotly.express as px\n",
    "import plotly.io as pio\n",
    "import seaborn as sns\n",
    "%matplotlib inline"
   ]
  },
  {
   "cell_type": "markdown",
   "metadata": {},
   "source": [
    "##  Data"
   ]
  },
  {
   "cell_type": "code",
   "execution_count": 3,
   "metadata": {},
   "outputs": [],
   "source": [
    "data=pd.read_csv(\"transaction_data.csv\")"
   ]
  },
  {
   "cell_type": "code",
   "execution_count": 4,
   "metadata": {},
   "outputs": [
    {
     "data": {
      "text/html": [
       "<div>\n",
       "<style scoped>\n",
       "    .dataframe tbody tr th:only-of-type {\n",
       "        vertical-align: middle;\n",
       "    }\n",
       "\n",
       "    .dataframe tbody tr th {\n",
       "        vertical-align: top;\n",
       "    }\n",
       "\n",
       "    .dataframe thead th {\n",
       "        text-align: right;\n",
       "    }\n",
       "</style>\n",
       "<table border=\"1\" class=\"dataframe\">\n",
       "  <thead>\n",
       "    <tr style=\"text-align: right;\">\n",
       "      <th></th>\n",
       "      <th>UserId</th>\n",
       "      <th>TransactionId</th>\n",
       "      <th>TransactionTime</th>\n",
       "      <th>ItemCode</th>\n",
       "      <th>ItemDescription</th>\n",
       "      <th>NumberOfItemsPurchased</th>\n",
       "      <th>CostPerItem</th>\n",
       "      <th>Country</th>\n",
       "    </tr>\n",
       "  </thead>\n",
       "  <tbody>\n",
       "    <tr>\n",
       "      <th>0</th>\n",
       "      <td>278166</td>\n",
       "      <td>6355745</td>\n",
       "      <td>Sat Feb 02 12:50:00 IST 2019</td>\n",
       "      <td>465549</td>\n",
       "      <td>FAMILY ALBUM WHITE PICTURE FRAME</td>\n",
       "      <td>6</td>\n",
       "      <td>11.73</td>\n",
       "      <td>United Kingdom</td>\n",
       "    </tr>\n",
       "    <tr>\n",
       "      <th>1</th>\n",
       "      <td>337701</td>\n",
       "      <td>6283376</td>\n",
       "      <td>Wed Dec 26 09:06:00 IST 2018</td>\n",
       "      <td>482370</td>\n",
       "      <td>LONDON BUS COFFEE MUG</td>\n",
       "      <td>3</td>\n",
       "      <td>3.52</td>\n",
       "      <td>United Kingdom</td>\n",
       "    </tr>\n",
       "    <tr>\n",
       "      <th>2</th>\n",
       "      <td>267099</td>\n",
       "      <td>6385599</td>\n",
       "      <td>Fri Feb 15 09:45:00 IST 2019</td>\n",
       "      <td>490728</td>\n",
       "      <td>SET 12 COLOUR PENCILS DOLLY GIRL</td>\n",
       "      <td>72</td>\n",
       "      <td>0.90</td>\n",
       "      <td>France</td>\n",
       "    </tr>\n",
       "    <tr>\n",
       "      <th>3</th>\n",
       "      <td>380478</td>\n",
       "      <td>6044973</td>\n",
       "      <td>Fri Jun 22 07:14:00 IST 2018</td>\n",
       "      <td>459186</td>\n",
       "      <td>UNION JACK FLAG LUGGAGE TAG</td>\n",
       "      <td>3</td>\n",
       "      <td>1.73</td>\n",
       "      <td>United Kingdom</td>\n",
       "    </tr>\n",
       "    <tr>\n",
       "      <th>4</th>\n",
       "      <td>-1</td>\n",
       "      <td>6143225</td>\n",
       "      <td>Mon Sep 10 11:58:00 IST 2018</td>\n",
       "      <td>1733592</td>\n",
       "      <td>WASHROOM METAL SIGN</td>\n",
       "      <td>3</td>\n",
       "      <td>3.40</td>\n",
       "      <td>United Kingdom</td>\n",
       "    </tr>\n",
       "  </tbody>\n",
       "</table>\n",
       "</div>"
      ],
      "text/plain": [
       "   UserId  TransactionId               TransactionTime  ItemCode  \\\n",
       "0  278166        6355745  Sat Feb 02 12:50:00 IST 2019    465549   \n",
       "1  337701        6283376  Wed Dec 26 09:06:00 IST 2018    482370   \n",
       "2  267099        6385599  Fri Feb 15 09:45:00 IST 2019    490728   \n",
       "3  380478        6044973  Fri Jun 22 07:14:00 IST 2018    459186   \n",
       "4      -1        6143225  Mon Sep 10 11:58:00 IST 2018   1733592   \n",
       "\n",
       "                     ItemDescription  NumberOfItemsPurchased  CostPerItem  \\\n",
       "0   FAMILY ALBUM WHITE PICTURE FRAME                       6        11.73   \n",
       "1              LONDON BUS COFFEE MUG                       3         3.52   \n",
       "2  SET 12 COLOUR PENCILS DOLLY GIRL                       72         0.90   \n",
       "3        UNION JACK FLAG LUGGAGE TAG                       3         1.73   \n",
       "4                WASHROOM METAL SIGN                       3         3.40   \n",
       "\n",
       "          Country  \n",
       "0  United Kingdom  \n",
       "1  United Kingdom  \n",
       "2          France  \n",
       "3  United Kingdom  \n",
       "4  United Kingdom  "
      ]
     },
     "execution_count": 4,
     "metadata": {},
     "output_type": "execute_result"
    }
   ],
   "source": [
    "data.head()"
   ]
  },
  {
   "cell_type": "markdown",
   "metadata": {},
   "source": [
    "### DataSet\n",
    "**The dataset contains transactions on an e-commerce website between the period Feb 2018 to Feb 2019 from customers across different countries.**\n",
    "\n",
    "File: transaction_data.csv</br>\n",
    "Columns</br>\n",
    "\n",
    "UserId \t\t\t\t- Unique identifier of a user.\n",
    "\n",
    "TransactionId \t\t\t- Unique identifier of a transaction. If the same TransactionId is present in multiple rows, then all those products are bought together in the same transaction.\n",
    "\n",
    "TransactionTime\t\t- Time at which the transaction is performed\n",
    "\n",
    "ItemCode\t\t\t- Unique identifier of the product purchased\n",
    "\n",
    "ItemDescription\t\t- Simple description of the product purchased\n",
    "\n",
    "NumberOfItemsPurchased\t- Quantity of the product purchased in the transaction\n",
    "\n",
    "CostPerItem\t\t\t- Price per each unit of the product\n",
    "\n",
    "Country\t\t\t- Country from which the purchase is made.\n"
   ]
  },
  {
   "cell_type": "code",
   "execution_count": 5,
   "metadata": {},
   "outputs": [
    {
     "data": {
      "text/plain": [
       "(1083818, 8)"
      ]
     },
     "execution_count": 5,
     "metadata": {},
     "output_type": "execute_result"
    }
   ],
   "source": [
    "data.shape"
   ]
  },
  {
   "cell_type": "code",
   "execution_count": 6,
   "metadata": {},
   "outputs": [
    {
     "data": {
      "text/plain": [
       "['UserId',\n",
       " 'TransactionId',\n",
       " 'TransactionTime',\n",
       " 'ItemCode',\n",
       " 'ItemDescription',\n",
       " 'NumberOfItemsPurchased',\n",
       " 'CostPerItem',\n",
       " 'Country']"
      ]
     },
     "execution_count": 6,
     "metadata": {},
     "output_type": "execute_result"
    }
   ],
   "source": [
    "columns = list(data.columns)\n",
    "columns"
   ]
  },
  {
   "cell_type": "code",
   "execution_count": 7,
   "metadata": {},
   "outputs": [
    {
     "name": "stdout",
     "output_type": "stream",
     "text": [
      "<class 'pandas.core.frame.DataFrame'>\n",
      "RangeIndex: 1083818 entries, 0 to 1083817\n",
      "Data columns (total 8 columns):\n",
      " #   Column                  Non-Null Count    Dtype  \n",
      "---  ------                  --------------    -----  \n",
      " 0   UserId                  1083818 non-null  int64  \n",
      " 1   TransactionId           1083818 non-null  int64  \n",
      " 2   TransactionTime         1083818 non-null  object \n",
      " 3   ItemCode                1083818 non-null  int64  \n",
      " 4   ItemDescription         1080910 non-null  object \n",
      " 5   NumberOfItemsPurchased  1083818 non-null  int64  \n",
      " 6   CostPerItem             1083818 non-null  float64\n",
      " 7   Country                 1083818 non-null  object \n",
      "dtypes: float64(1), int64(4), object(3)\n",
      "memory usage: 66.2+ MB\n"
     ]
    }
   ],
   "source": [
    "data.info()"
   ]
  },
  {
   "cell_type": "code",
   "execution_count": 8,
   "metadata": {},
   "outputs": [
    {
     "name": "stdout",
     "output_type": "stream",
     "text": [
      "categorical variables:  ['TransactionTime', 'ItemDescription', 'Country']\n",
      "\n",
      "numerical variables:  ['UserId', 'TransactionId', 'ItemCode', 'NumberOfItemsPurchased', 'CostPerItem']\n"
     ]
    }
   ],
   "source": [
    "# categorical and numerical column names \n",
    "cats = list(data.select_dtypes(include=['object']).columns)\n",
    "nums = list(data.select_dtypes(exclude=['object']).columns)\n",
    "print(f'categorical variables:  {cats}')\n",
    "print()\n",
    "print(f'numerical variables:  {nums}')"
   ]
  },
  {
   "cell_type": "code",
   "execution_count": 9,
   "metadata": {},
   "outputs": [
    {
     "data": {
      "text/plain": [
       "UserId                     4373\n",
       "TransactionId             25900\n",
       "TransactionTime           23260\n",
       "ItemCode                   3407\n",
       "ItemDescription            4223\n",
       "NumberOfItemsPurchased      722\n",
       "CostPerItem                1631\n",
       "Country                      38\n",
       "dtype: int64"
      ]
     },
     "execution_count": 9,
     "metadata": {},
     "output_type": "execute_result"
    }
   ],
   "source": [
    "data.nunique(axis=0)"
   ]
  },
  {
   "cell_type": "markdown",
   "metadata": {},
   "source": [
    "## Exploratory Data Analysis (EDA)"
   ]
  },
  {
   "cell_type": "markdown",
   "metadata": {},
   "source": [
    "##### First we will check for Missing Data"
   ]
  },
  {
   "cell_type": "code",
   "execution_count": 10,
   "metadata": {},
   "outputs": [
    {
     "data": {
      "text/plain": [
       "UserId                       0\n",
       "TransactionId                0\n",
       "TransactionTime              0\n",
       "ItemCode                     0\n",
       "ItemDescription           2908\n",
       "NumberOfItemsPurchased       0\n",
       "CostPerItem                  0\n",
       "Country                      0\n",
       "dtype: int64"
      ]
     },
     "execution_count": 10,
     "metadata": {},
     "output_type": "execute_result"
    }
   ],
   "source": [
    "data.isna().sum()"
   ]
  },
  {
   "cell_type": "code",
   "execution_count": 11,
   "metadata": {},
   "outputs": [
    {
     "data": {
      "text/plain": [
       "<matplotlib.axes._subplots.AxesSubplot at 0x10ff0f390>"
      ]
     },
     "execution_count": 11,
     "metadata": {},
     "output_type": "execute_result"
    },
    {
     "data": {
      "image/png": "[encoded data removed]",
      "text/plain": [
       "<Figure size 432x288 with 1 Axes>"
      ]
     },
     "metadata": {
      "needs_background": "light"
     },
     "output_type": "display_data"
    }
   ],
   "source": [
    "# simple heatmap to see where we are missing data\n",
    "sns.heatmap(data.isnull(),yticklabels=False,cbar=False,cmap='viridis')"
   ]
  },
  {
   "cell_type": "code",
   "execution_count": 12,
   "metadata": {},
   "outputs": [
    {
     "data": {
      "text/html": [
       "<div>\n",
       "<style scoped>\n",
       "    .dataframe tbody tr th:only-of-type {\n",
       "        vertical-align: middle;\n",
       "    }\n",
       "\n",
       "    .dataframe tbody tr th {\n",
       "        vertical-align: top;\n",
       "    }\n",
       "\n",
       "    .dataframe thead th {\n",
       "        text-align: right;\n",
       "    }\n",
       "</style>\n",
       "<table border=\"1\" class=\"dataframe\">\n",
       "  <thead>\n",
       "    <tr style=\"text-align: right;\">\n",
       "      <th></th>\n",
       "      <th>UserId</th>\n",
       "      <th>TransactionId</th>\n",
       "      <th>TransactionTime</th>\n",
       "      <th>ItemCode</th>\n",
       "      <th>ItemDescription</th>\n",
       "      <th>NumberOfItemsPurchased</th>\n",
       "      <th>CostPerItem</th>\n",
       "      <th>Country</th>\n",
       "    </tr>\n",
       "  </thead>\n",
       "  <tbody>\n",
       "    <tr>\n",
       "      <th>322</th>\n",
       "      <td>-1</td>\n",
       "      <td>6314803</td>\n",
       "      <td>Mon Jan 14 11:15:00 IST 2019</td>\n",
       "      <td>495159</td>\n",
       "      <td>NaN</td>\n",
       "      <td>9</td>\n",
       "      <td>0.0</td>\n",
       "      <td>United Kingdom</td>\n",
       "    </tr>\n",
       "    <tr>\n",
       "      <th>762</th>\n",
       "      <td>-1</td>\n",
       "      <td>6206420</td>\n",
       "      <td>Mon Nov 05 05:34:00 IST 2018</td>\n",
       "      <td>434364</td>\n",
       "      <td>NaN</td>\n",
       "      <td>3</td>\n",
       "      <td>0.0</td>\n",
       "      <td>United Kingdom</td>\n",
       "    </tr>\n",
       "    <tr>\n",
       "      <th>1080</th>\n",
       "      <td>-1</td>\n",
       "      <td>6297863</td>\n",
       "      <td>Sat Jan 05 12:06:00 IST 2019</td>\n",
       "      <td>1782417</td>\n",
       "      <td>NaN</td>\n",
       "      <td>-3</td>\n",
       "      <td>0.0</td>\n",
       "      <td>United Kingdom</td>\n",
       "    </tr>\n",
       "    <tr>\n",
       "      <th>2204</th>\n",
       "      <td>-1</td>\n",
       "      <td>6142961</td>\n",
       "      <td>Mon Sep 10 09:41:00 IST 2018</td>\n",
       "      <td>458157</td>\n",
       "      <td>NaN</td>\n",
       "      <td>-240</td>\n",
       "      <td>0.0</td>\n",
       "      <td>United Kingdom</td>\n",
       "    </tr>\n",
       "    <tr>\n",
       "      <th>2210</th>\n",
       "      <td>-1</td>\n",
       "      <td>6176445</td>\n",
       "      <td>Mon Oct 08 10:06:00 IST 2018</td>\n",
       "      <td>1666056</td>\n",
       "      <td>NaN</td>\n",
       "      <td>108</td>\n",
       "      <td>0.0</td>\n",
       "      <td>United Kingdom</td>\n",
       "    </tr>\n",
       "    <tr>\n",
       "      <th>...</th>\n",
       "      <td>...</td>\n",
       "      <td>...</td>\n",
       "      <td>...</td>\n",
       "      <td>...</td>\n",
       "      <td>...</td>\n",
       "      <td>...</td>\n",
       "      <td>...</td>\n",
       "      <td>...</td>\n",
       "    </tr>\n",
       "    <tr>\n",
       "      <th>1080070</th>\n",
       "      <td>-1</td>\n",
       "      <td>6074486</td>\n",
       "      <td>Wed Jul 18 11:26:00 IST 2018</td>\n",
       "      <td>462735</td>\n",
       "      <td>NaN</td>\n",
       "      <td>-480</td>\n",
       "      <td>0.0</td>\n",
       "      <td>United Kingdom</td>\n",
       "    </tr>\n",
       "    <tr>\n",
       "      <th>1080468</th>\n",
       "      <td>-1</td>\n",
       "      <td>6178260</td>\n",
       "      <td>Tue Oct 09 12:18:00 IST 2018</td>\n",
       "      <td>472542</td>\n",
       "      <td>NaN</td>\n",
       "      <td>3</td>\n",
       "      <td>0.0</td>\n",
       "      <td>United Kingdom</td>\n",
       "    </tr>\n",
       "    <tr>\n",
       "      <th>1080485</th>\n",
       "      <td>-1</td>\n",
       "      <td>6237649</td>\n",
       "      <td>Wed Nov 28 07:41:00 IST 2018</td>\n",
       "      <td>471492</td>\n",
       "      <td>NaN</td>\n",
       "      <td>-189</td>\n",
       "      <td>0.0</td>\n",
       "      <td>United Kingdom</td>\n",
       "    </tr>\n",
       "    <tr>\n",
       "      <th>1080983</th>\n",
       "      <td>-1</td>\n",
       "      <td>6128529</td>\n",
       "      <td>Wed Aug 29 05:34:00 IST 2018</td>\n",
       "      <td>755265</td>\n",
       "      <td>NaN</td>\n",
       "      <td>6</td>\n",
       "      <td>0.0</td>\n",
       "      <td>United Kingdom</td>\n",
       "    </tr>\n",
       "    <tr>\n",
       "      <th>1083739</th>\n",
       "      <td>-1</td>\n",
       "      <td>6167942</td>\n",
       "      <td>Mon Oct 01 09:37:00 IST 2018</td>\n",
       "      <td>337029</td>\n",
       "      <td>NaN</td>\n",
       "      <td>-93</td>\n",
       "      <td>0.0</td>\n",
       "      <td>United Kingdom</td>\n",
       "    </tr>\n",
       "  </tbody>\n",
       "</table>\n",
       "<p>2908 rows × 8 columns</p>\n",
       "</div>"
      ],
      "text/plain": [
       "         UserId  TransactionId               TransactionTime  ItemCode  \\\n",
       "322          -1        6314803  Mon Jan 14 11:15:00 IST 2019    495159   \n",
       "762          -1        6206420  Mon Nov 05 05:34:00 IST 2018    434364   \n",
       "1080         -1        6297863  Sat Jan 05 12:06:00 IST 2019   1782417   \n",
       "2204         -1        6142961  Mon Sep 10 09:41:00 IST 2018    458157   \n",
       "2210         -1        6176445  Mon Oct 08 10:06:00 IST 2018   1666056   \n",
       "...         ...            ...                           ...       ...   \n",
       "1080070      -1        6074486  Wed Jul 18 11:26:00 IST 2018    462735   \n",
       "1080468      -1        6178260  Tue Oct 09 12:18:00 IST 2018    472542   \n",
       "1080485      -1        6237649  Wed Nov 28 07:41:00 IST 2018    471492   \n",
       "1080983      -1        6128529  Wed Aug 29 05:34:00 IST 2018    755265   \n",
       "1083739      -1        6167942  Mon Oct 01 09:37:00 IST 2018    337029   \n",
       "\n",
       "        ItemDescription  NumberOfItemsPurchased  CostPerItem         Country  \n",
       "322                 NaN                       9          0.0  United Kingdom  \n",
       "762                 NaN                       3          0.0  United Kingdom  \n",
       "1080                NaN                      -3          0.0  United Kingdom  \n",
       "2204                NaN                    -240          0.0  United Kingdom  \n",
       "2210                NaN                     108          0.0  United Kingdom  \n",
       "...                 ...                     ...          ...             ...  \n",
       "1080070             NaN                    -480          0.0  United Kingdom  \n",
       "1080468             NaN                       3          0.0  United Kingdom  \n",
       "1080485             NaN                    -189          0.0  United Kingdom  \n",
       "1080983             NaN                       6          0.0  United Kingdom  \n",
       "1083739             NaN                     -93          0.0  United Kingdom  \n",
       "\n",
       "[2908 rows x 8 columns]"
      ]
     },
     "execution_count": 12,
     "metadata": {},
     "output_type": "execute_result"
    }
   ],
   "source": [
    "# let's print these 2908 `nan` containing rows \n",
    "data[data.isnull().any(axis=1)]"
   ]
  },
  {
   "cell_type": "code",
   "execution_count": 13,
   "metadata": {},
   "outputs": [
    {
     "data": {
      "text/plain": [
       "0.0026812619831004837"
      ]
     },
     "execution_count": 13,
     "metadata": {},
     "output_type": "execute_result"
    }
   ],
   "source": [
    "2906 / len(data)"
   ]
  },
  {
   "cell_type": "markdown",
   "metadata": {},
   "source": [
    "Roughly 0.27% (2908 out of 1083818) of the ItemDescription data is missing. As this fraction is very low so it's safe to drop these nan rows for now"
   ]
  },
  {
   "cell_type": "markdown",
   "metadata": {},
   "source": [
    "## Data Cleaning"
   ]
  },
  {
   "cell_type": "code",
   "execution_count": 14,
   "metadata": {},
   "outputs": [
    {
     "data": {
      "text/plain": [
       "(1080910, 8)"
      ]
     },
     "execution_count": 14,
     "metadata": {},
     "output_type": "execute_result"
    }
   ],
   "source": [
    "# for now remove all nan rows as they are just 0.27%\n",
    "data = data[~data.isnull().any(axis=1)]\n",
    "data.reset_index(inplace=True)\n",
    "data.drop('index', inplace=True, axis=1)\n",
    "data.shape"
   ]
  },
  {
   "cell_type": "code",
   "execution_count": 15,
   "metadata": {},
   "outputs": [
    {
     "name": "stdout",
     "output_type": "stream",
     "text": [
      "total duplicate rows: 545792\n"
     ]
    },
    {
     "data": {
      "text/plain": [
       "(535118, 8)"
      ]
     },
     "execution_count": 15,
     "metadata": {},
     "output_type": "execute_result"
    }
   ],
   "source": [
    "print(f'total duplicate rows: {data.duplicated().sum()}')\n",
    "\n",
    "# drop duplicate rows if any\n",
    "data = data[~data.duplicated()]\n",
    "data.shape"
   ]
  },
  {
   "cell_type": "code",
   "execution_count": 16,
   "metadata": {},
   "outputs": [
    {
     "data": {
      "text/plain": [
       "0          False\n",
       "1          False\n",
       "2          False\n",
       "3          False\n",
       "4          False\n",
       "           ...  \n",
       "1077824    False\n",
       "1078317    False\n",
       "1078364    False\n",
       "1078469    False\n",
       "1078594    False\n",
       "Length: 535118, dtype: bool"
      ]
     },
     "execution_count": 16,
     "metadata": {},
     "output_type": "execute_result"
    }
   ],
   "source": [
    "data.duplicated()"
   ]
  },
  {
   "cell_type": "code",
   "execution_count": 17,
   "metadata": {},
   "outputs": [
    {
     "data": {
      "text/html": [
       "<div>\n",
       "<style scoped>\n",
       "    .dataframe tbody tr th:only-of-type {\n",
       "        vertical-align: middle;\n",
       "    }\n",
       "\n",
       "    .dataframe tbody tr th {\n",
       "        vertical-align: top;\n",
       "    }\n",
       "\n",
       "    .dataframe thead th {\n",
       "        text-align: right;\n",
       "    }\n",
       "</style>\n",
       "<table border=\"1\" class=\"dataframe\">\n",
       "  <thead>\n",
       "    <tr style=\"text-align: right;\">\n",
       "      <th></th>\n",
       "      <th>UserId</th>\n",
       "      <th>TransactionId</th>\n",
       "      <th>TransactionTime</th>\n",
       "      <th>ItemCode</th>\n",
       "      <th>ItemDescription</th>\n",
       "      <th>NumberOfItemsPurchased</th>\n",
       "      <th>CostPerItem</th>\n",
       "      <th>Country</th>\n",
       "    </tr>\n",
       "  </thead>\n",
       "  <tbody>\n",
       "    <tr>\n",
       "      <th>0</th>\n",
       "      <td>278166</td>\n",
       "      <td>6355745</td>\n",
       "      <td>Sat Feb 02 12:50:00 IST 2019</td>\n",
       "      <td>465549</td>\n",
       "      <td>FAMILY ALBUM WHITE PICTURE FRAME</td>\n",
       "      <td>6</td>\n",
       "      <td>11.73</td>\n",
       "      <td>United Kingdom</td>\n",
       "    </tr>\n",
       "    <tr>\n",
       "      <th>1</th>\n",
       "      <td>337701</td>\n",
       "      <td>6283376</td>\n",
       "      <td>Wed Dec 26 09:06:00 IST 2018</td>\n",
       "      <td>482370</td>\n",
       "      <td>LONDON BUS COFFEE MUG</td>\n",
       "      <td>3</td>\n",
       "      <td>3.52</td>\n",
       "      <td>United Kingdom</td>\n",
       "    </tr>\n",
       "    <tr>\n",
       "      <th>2</th>\n",
       "      <td>267099</td>\n",
       "      <td>6385599</td>\n",
       "      <td>Fri Feb 15 09:45:00 IST 2019</td>\n",
       "      <td>490728</td>\n",
       "      <td>SET 12 COLOUR PENCILS DOLLY GIRL</td>\n",
       "      <td>72</td>\n",
       "      <td>0.90</td>\n",
       "      <td>France</td>\n",
       "    </tr>\n",
       "    <tr>\n",
       "      <th>3</th>\n",
       "      <td>380478</td>\n",
       "      <td>6044973</td>\n",
       "      <td>Fri Jun 22 07:14:00 IST 2018</td>\n",
       "      <td>459186</td>\n",
       "      <td>UNION JACK FLAG LUGGAGE TAG</td>\n",
       "      <td>3</td>\n",
       "      <td>1.73</td>\n",
       "      <td>United Kingdom</td>\n",
       "    </tr>\n",
       "    <tr>\n",
       "      <th>4</th>\n",
       "      <td>-1</td>\n",
       "      <td>6143225</td>\n",
       "      <td>Mon Sep 10 11:58:00 IST 2018</td>\n",
       "      <td>1733592</td>\n",
       "      <td>WASHROOM METAL SIGN</td>\n",
       "      <td>3</td>\n",
       "      <td>3.40</td>\n",
       "      <td>United Kingdom</td>\n",
       "    </tr>\n",
       "  </tbody>\n",
       "</table>\n",
       "</div>"
      ],
      "text/plain": [
       "   UserId  TransactionId               TransactionTime  ItemCode  \\\n",
       "0  278166        6355745  Sat Feb 02 12:50:00 IST 2019    465549   \n",
       "1  337701        6283376  Wed Dec 26 09:06:00 IST 2018    482370   \n",
       "2  267099        6385599  Fri Feb 15 09:45:00 IST 2019    490728   \n",
       "3  380478        6044973  Fri Jun 22 07:14:00 IST 2018    459186   \n",
       "4      -1        6143225  Mon Sep 10 11:58:00 IST 2018   1733592   \n",
       "\n",
       "                     ItemDescription  NumberOfItemsPurchased  CostPerItem  \\\n",
       "0   FAMILY ALBUM WHITE PICTURE FRAME                       6        11.73   \n",
       "1              LONDON BUS COFFEE MUG                       3         3.52   \n",
       "2  SET 12 COLOUR PENCILS DOLLY GIRL                       72         0.90   \n",
       "3        UNION JACK FLAG LUGGAGE TAG                       3         1.73   \n",
       "4                WASHROOM METAL SIGN                       3         3.40   \n",
       "\n",
       "          Country  \n",
       "0  United Kingdom  \n",
       "1  United Kingdom  \n",
       "2          France  \n",
       "3  United Kingdom  \n",
       "4  United Kingdom  "
      ]
     },
     "execution_count": 17,
     "metadata": {},
     "output_type": "execute_result"
    }
   ],
   "source": [
    "data.head()"
   ]
  },
  {
   "cell_type": "code",
   "execution_count": 18,
   "metadata": {},
   "outputs": [
    {
     "data": {
      "text/html": [
       "<div>\n",
       "<style scoped>\n",
       "    .dataframe tbody tr th:only-of-type {\n",
       "        vertical-align: middle;\n",
       "    }\n",
       "\n",
       "    .dataframe tbody tr th {\n",
       "        vertical-align: top;\n",
       "    }\n",
       "\n",
       "    .dataframe thead th {\n",
       "        text-align: right;\n",
       "    }\n",
       "</style>\n",
       "<table border=\"1\" class=\"dataframe\">\n",
       "  <thead>\n",
       "    <tr style=\"text-align: right;\">\n",
       "      <th></th>\n",
       "      <th>TransactionTime</th>\n",
       "      <th>ItemDescription</th>\n",
       "      <th>Country</th>\n",
       "      <th>UserId</th>\n",
       "      <th>TransactionId</th>\n",
       "      <th>ItemCode</th>\n",
       "      <th>NumberOfItemsPurchased</th>\n",
       "      <th>CostPerItem</th>\n",
       "    </tr>\n",
       "  </thead>\n",
       "  <tbody>\n",
       "    <tr>\n",
       "      <th>0</th>\n",
       "      <td>Sat Feb 02 12:50:00 IST 2019</td>\n",
       "      <td>FAMILY ALBUM WHITE PICTURE FRAME</td>\n",
       "      <td>United Kingdom</td>\n",
       "      <td>278166</td>\n",
       "      <td>6355745</td>\n",
       "      <td>465549</td>\n",
       "      <td>6</td>\n",
       "      <td>11.73</td>\n",
       "    </tr>\n",
       "    <tr>\n",
       "      <th>1</th>\n",
       "      <td>Wed Dec 26 09:06:00 IST 2018</td>\n",
       "      <td>LONDON BUS COFFEE MUG</td>\n",
       "      <td>United Kingdom</td>\n",
       "      <td>337701</td>\n",
       "      <td>6283376</td>\n",
       "      <td>482370</td>\n",
       "      <td>3</td>\n",
       "      <td>3.52</td>\n",
       "    </tr>\n",
       "    <tr>\n",
       "      <th>2</th>\n",
       "      <td>Fri Feb 15 09:45:00 IST 2019</td>\n",
       "      <td>SET 12 COLOUR PENCILS DOLLY GIRL</td>\n",
       "      <td>France</td>\n",
       "      <td>267099</td>\n",
       "      <td>6385599</td>\n",
       "      <td>490728</td>\n",
       "      <td>72</td>\n",
       "      <td>0.90</td>\n",
       "    </tr>\n",
       "    <tr>\n",
       "      <th>3</th>\n",
       "      <td>Fri Jun 22 07:14:00 IST 2018</td>\n",
       "      <td>UNION JACK FLAG LUGGAGE TAG</td>\n",
       "      <td>United Kingdom</td>\n",
       "      <td>380478</td>\n",
       "      <td>6044973</td>\n",
       "      <td>459186</td>\n",
       "      <td>3</td>\n",
       "      <td>1.73</td>\n",
       "    </tr>\n",
       "    <tr>\n",
       "      <th>4</th>\n",
       "      <td>Mon Sep 10 11:58:00 IST 2018</td>\n",
       "      <td>WASHROOM METAL SIGN</td>\n",
       "      <td>United Kingdom</td>\n",
       "      <td>-1</td>\n",
       "      <td>6143225</td>\n",
       "      <td>1733592</td>\n",
       "      <td>3</td>\n",
       "      <td>3.40</td>\n",
       "    </tr>\n",
       "  </tbody>\n",
       "</table>\n",
       "</div>"
      ],
      "text/plain": [
       "                TransactionTime                    ItemDescription  \\\n",
       "0  Sat Feb 02 12:50:00 IST 2019   FAMILY ALBUM WHITE PICTURE FRAME   \n",
       "1  Wed Dec 26 09:06:00 IST 2018              LONDON BUS COFFEE MUG   \n",
       "2  Fri Feb 15 09:45:00 IST 2019  SET 12 COLOUR PENCILS DOLLY GIRL    \n",
       "3  Fri Jun 22 07:14:00 IST 2018        UNION JACK FLAG LUGGAGE TAG   \n",
       "4  Mon Sep 10 11:58:00 IST 2018                WASHROOM METAL SIGN   \n",
       "\n",
       "          Country  UserId  TransactionId  ItemCode  NumberOfItemsPurchased  \\\n",
       "0  United Kingdom  278166        6355745    465549                       6   \n",
       "1  United Kingdom  337701        6283376    482370                       3   \n",
       "2          France  267099        6385599    490728                      72   \n",
       "3  United Kingdom  380478        6044973    459186                       3   \n",
       "4  United Kingdom      -1        6143225   1733592                       3   \n",
       "\n",
       "   CostPerItem  \n",
       "0        11.73  \n",
       "1         3.52  \n",
       "2         0.90  \n",
       "3         1.73  \n",
       "4         3.40  "
      ]
     },
     "execution_count": 18,
     "metadata": {},
     "output_type": "execute_result"
    }
   ],
   "source": [
    "# group all variables together having same type\n",
    "data = pd.concat((data[cats], data[nums]), axis=1)\n",
    "data.head()"
   ]
  },
  {
   "cell_type": "code",
   "execution_count": 19,
   "metadata": {},
   "outputs": [],
   "source": [
    "num_rows, num_cols = data.shape"
   ]
  },
  {
   "cell_type": "markdown",
   "metadata": {},
   "source": [
    "###### saving cleaned data\n",
    "data.to_csv('data_cleaned.csv', index=False)"
   ]
  },
  {
   "cell_type": "markdown",
   "metadata": {},
   "source": [
    "## Analysis on Categorical Attributes"
   ]
  },
  {
   "cell_type": "code",
   "execution_count": 20,
   "metadata": {},
   "outputs": [],
   "source": [
    "df = pd.read_csv(\"data_cleaned.csv\")"
   ]
  },
  {
   "cell_type": "code",
   "execution_count": 21,
   "metadata": {},
   "outputs": [
    {
     "name": "stdout",
     "output_type": "stream",
     "text": [
      "categorical variables:  ['TransactionTime', 'ItemDescription', 'Country']\n"
     ]
    }
   ],
   "source": [
    "print(f'categorical variables:  {cats}')"
   ]
  },
  {
   "cell_type": "code",
   "execution_count": 22,
   "metadata": {},
   "outputs": [
    {
     "data": {
      "text/html": [
       "<div>\n",
       "<style scoped>\n",
       "    .dataframe tbody tr th:only-of-type {\n",
       "        vertical-align: middle;\n",
       "    }\n",
       "\n",
       "    .dataframe tbody tr th {\n",
       "        vertical-align: top;\n",
       "    }\n",
       "\n",
       "    .dataframe thead th {\n",
       "        text-align: right;\n",
       "    }\n",
       "</style>\n",
       "<table border=\"1\" class=\"dataframe\">\n",
       "  <thead>\n",
       "    <tr style=\"text-align: right;\">\n",
       "      <th></th>\n",
       "      <th>TransactionTime</th>\n",
       "      <th>ItemDescription</th>\n",
       "      <th>Country</th>\n",
       "    </tr>\n",
       "  </thead>\n",
       "  <tbody>\n",
       "    <tr>\n",
       "      <th>0</th>\n",
       "      <td>Sat Feb 02 12:50:00 IST 2019</td>\n",
       "      <td>FAMILY ALBUM WHITE PICTURE FRAME</td>\n",
       "      <td>United Kingdom</td>\n",
       "    </tr>\n",
       "    <tr>\n",
       "      <th>1</th>\n",
       "      <td>Wed Dec 26 09:06:00 IST 2018</td>\n",
       "      <td>LONDON BUS COFFEE MUG</td>\n",
       "      <td>United Kingdom</td>\n",
       "    </tr>\n",
       "    <tr>\n",
       "      <th>2</th>\n",
       "      <td>Fri Feb 15 09:45:00 IST 2019</td>\n",
       "      <td>SET 12 COLOUR PENCILS DOLLY GIRL</td>\n",
       "      <td>France</td>\n",
       "    </tr>\n",
       "    <tr>\n",
       "      <th>3</th>\n",
       "      <td>Fri Jun 22 07:14:00 IST 2018</td>\n",
       "      <td>UNION JACK FLAG LUGGAGE TAG</td>\n",
       "      <td>United Kingdom</td>\n",
       "    </tr>\n",
       "    <tr>\n",
       "      <th>4</th>\n",
       "      <td>Mon Sep 10 11:58:00 IST 2018</td>\n",
       "      <td>WASHROOM METAL SIGN</td>\n",
       "      <td>United Kingdom</td>\n",
       "    </tr>\n",
       "  </tbody>\n",
       "</table>\n",
       "</div>"
      ],
      "text/plain": [
       "                TransactionTime                    ItemDescription  \\\n",
       "0  Sat Feb 02 12:50:00 IST 2019   FAMILY ALBUM WHITE PICTURE FRAME   \n",
       "1  Wed Dec 26 09:06:00 IST 2018              LONDON BUS COFFEE MUG   \n",
       "2  Fri Feb 15 09:45:00 IST 2019  SET 12 COLOUR PENCILS DOLLY GIRL    \n",
       "3  Fri Jun 22 07:14:00 IST 2018        UNION JACK FLAG LUGGAGE TAG   \n",
       "4  Mon Sep 10 11:58:00 IST 2018                WASHROOM METAL SIGN   \n",
       "\n",
       "          Country  \n",
       "0  United Kingdom  \n",
       "1  United Kingdom  \n",
       "2          France  \n",
       "3  United Kingdom  \n",
       "4  United Kingdom  "
      ]
     },
     "execution_count": 22,
     "metadata": {},
     "output_type": "execute_result"
    }
   ],
   "source": [
    "df_cat = df.loc[:, 'TransactionTime':'Country']\n",
    "df_cat.head()"
   ]
  },
  {
   "cell_type": "code",
   "execution_count": 23,
   "metadata": {},
   "outputs": [],
   "source": [
    "# remove extra spaces if any\n",
    "for col in ['ItemDescription', 'Country']:\n",
    "    df_cat[col] = df_cat[col].apply(lambda x: ' '.join(x.split()))"
   ]
  },
  {
   "cell_type": "code",
   "execution_count": 24,
   "metadata": {},
   "outputs": [
    {
     "name": "stdout",
     "output_type": "stream",
     "text": [
      "categorical variables:  ['TransactionTime', 'ItemDescription', 'Country', 'mpg_level']\n"
     ]
    }
   ],
   "source": [
    "df_cat['NumberOfItemsPurchased_level'] = df['NumberOfItemsPurchased'].apply(lambda x: 'low' if x<17 else 'high' if x>29 else 'medium')\n",
    "cats.append('mpg_level')\n",
    "print(f'categorical variables:  {cats}')"
   ]
  },
  {
   "cell_type": "code",
   "execution_count": 25,
   "metadata": {},
   "outputs": [
    {
     "name": "stdout",
     "output_type": "stream",
     "text": [
      "categories in Country: ['United Kingdom' 'France' 'Austria' 'Australia' 'EIRE' 'Portugal'\n",
      " 'Germany' 'Sweden' 'Cyprus' 'Spain' 'Japan' 'Belgium' 'Singapore'\n",
      " 'Denmark' 'Netherlands' 'Norway' 'Canada' 'Iceland' 'Switzerland'\n",
      " 'Poland' 'Finland' 'Hong Kong' 'Italy' 'Malta' 'Israel' 'Channel Islands'\n",
      " 'Unspecified' 'USA' 'Czech Republic' 'Lebanon' 'Brazil'\n",
      " 'European Community' 'Greece' 'RSA' 'Bahrain' 'Lithuania'\n",
      " 'United Arab Emirates' 'Saudi Arabia']\n",
      "categories in ItemDescription: ['FAMILY ALBUM WHITE PICTURE FRAME' 'LONDON BUS COFFEE MUG'\n",
      " 'SET 12 COLOUR PENCILS DOLLY GIRL' ... 'mouldy'\n",
      " '4 GOLD FLOCK CHRISTMAS BALLS' 'BAKING MOULD CUPCAKE CHOCOLATE']\n"
     ]
    }
   ],
   "source": [
    "print(f\"categories in Country: {pd.unique(df_cat['Country'])}\")\n",
    "print(f\"categories in ItemDescription: {pd.unique(df_cat['ItemDescription'])}\")"
   ]
  },
  {
   "cell_type": "markdown",
   "metadata": {},
   "source": [
    "## Analysis of Distribution\n"
   ]
  },
  {
   "cell_type": "code",
   "execution_count": 36,
   "metadata": {},
   "outputs": [
    {
     "data": {
      "image/png": "[encoded data removed]",
      "text/plain": [
       "<Figure size 1008x576 with 3 Axes>"
      ]
     },
     "metadata": {
      "needs_background": "light"
     },
     "output_type": "display_data"
    }
   ],
   "source": [
    "fig = plt.figure(1, (14, 8))\n",
    "\n",
    "for i,cat in enumerate(df_cat.drop(['ItemDescription'], axis=1).columns):\n",
    "    ax = plt.subplot(2,2,i+1)\n",
    "    sns.countplot(df_cat[cat], order=df_cat[cat].value_counts().index)\n",
    "    ax.set_xlabel(None)\n",
    "    ax.set_title(f'Distribution of {cat}')\n",
    "    plt.tight_layout()\n",
    "\n",
    "plt.show()"
   ]
  },
  {
   "cell_type": "code",
   "execution_count": 26,
   "metadata": {},
   "outputs": [
    {
     "data": {
      "text/html": [
       "<div>\n",
       "<style scoped>\n",
       "    .dataframe tbody tr th:only-of-type {\n",
       "        vertical-align: middle;\n",
       "    }\n",
       "\n",
       "    .dataframe tbody tr th {\n",
       "        vertical-align: top;\n",
       "    }\n",
       "\n",
       "    .dataframe thead th {\n",
       "        text-align: right;\n",
       "    }\n",
       "</style>\n",
       "<table border=\"1\" class=\"dataframe\">\n",
       "  <thead>\n",
       "    <tr style=\"text-align: right;\">\n",
       "      <th></th>\n",
       "      <th>TransactionTime</th>\n",
       "      <th>ItemDescription</th>\n",
       "      <th>Country</th>\n",
       "      <th>NumberOfItemsPurchased_level</th>\n",
       "    </tr>\n",
       "  </thead>\n",
       "  <tbody>\n",
       "    <tr>\n",
       "      <th>0</th>\n",
       "      <td>Sat Feb 02 12:50:00 IST 2019</td>\n",
       "      <td>FAMILY ALBUM WHITE PICTURE FRAME</td>\n",
       "      <td>United Kingdom</td>\n",
       "      <td>low</td>\n",
       "    </tr>\n",
       "    <tr>\n",
       "      <th>1</th>\n",
       "      <td>Wed Dec 26 09:06:00 IST 2018</td>\n",
       "      <td>LONDON BUS COFFEE MUG</td>\n",
       "      <td>United Kingdom</td>\n",
       "      <td>low</td>\n",
       "    </tr>\n",
       "    <tr>\n",
       "      <th>2</th>\n",
       "      <td>Fri Feb 15 09:45:00 IST 2019</td>\n",
       "      <td>SET 12 COLOUR PENCILS DOLLY GIRL</td>\n",
       "      <td>France</td>\n",
       "      <td>high</td>\n",
       "    </tr>\n",
       "    <tr>\n",
       "      <th>3</th>\n",
       "      <td>Fri Jun 22 07:14:00 IST 2018</td>\n",
       "      <td>UNION JACK FLAG LUGGAGE TAG</td>\n",
       "      <td>United Kingdom</td>\n",
       "      <td>low</td>\n",
       "    </tr>\n",
       "    <tr>\n",
       "      <th>4</th>\n",
       "      <td>Mon Sep 10 11:58:00 IST 2018</td>\n",
       "      <td>WASHROOM METAL SIGN</td>\n",
       "      <td>United Kingdom</td>\n",
       "      <td>low</td>\n",
       "    </tr>\n",
       "  </tbody>\n",
       "</table>\n",
       "</div>"
      ],
      "text/plain": [
       "                TransactionTime                   ItemDescription  \\\n",
       "0  Sat Feb 02 12:50:00 IST 2019  FAMILY ALBUM WHITE PICTURE FRAME   \n",
       "1  Wed Dec 26 09:06:00 IST 2018             LONDON BUS COFFEE MUG   \n",
       "2  Fri Feb 15 09:45:00 IST 2019  SET 12 COLOUR PENCILS DOLLY GIRL   \n",
       "3  Fri Jun 22 07:14:00 IST 2018       UNION JACK FLAG LUGGAGE TAG   \n",
       "4  Mon Sep 10 11:58:00 IST 2018               WASHROOM METAL SIGN   \n",
       "\n",
       "          Country NumberOfItemsPurchased_level  \n",
       "0  United Kingdom                          low  \n",
       "1  United Kingdom                          low  \n",
       "2          France                         high  \n",
       "3  United Kingdom                          low  \n",
       "4  United Kingdom                          low  "
      ]
     },
     "execution_count": 26,
     "metadata": {},
     "output_type": "execute_result"
    }
   ],
   "source": [
    "df_cat.head()"
   ]
  },
  {
   "cell_type": "markdown",
   "metadata": {},
   "source": [
    "## Analysis on Numerical Attributes"
   ]
  },
  {
   "cell_type": "code",
   "execution_count": 27,
   "metadata": {},
   "outputs": [
    {
     "data": {
      "text/html": [
       "<div>\n",
       "<style scoped>\n",
       "    .dataframe tbody tr th:only-of-type {\n",
       "        vertical-align: middle;\n",
       "    }\n",
       "\n",
       "    .dataframe tbody tr th {\n",
       "        vertical-align: top;\n",
       "    }\n",
       "\n",
       "    .dataframe thead th {\n",
       "        text-align: right;\n",
       "    }\n",
       "</style>\n",
       "<table border=\"1\" class=\"dataframe\">\n",
       "  <thead>\n",
       "    <tr style=\"text-align: right;\">\n",
       "      <th></th>\n",
       "      <th>TransactionTime</th>\n",
       "      <th>ItemDescription</th>\n",
       "      <th>Country</th>\n",
       "      <th>UserId</th>\n",
       "      <th>TransactionId</th>\n",
       "      <th>ItemCode</th>\n",
       "      <th>NumberOfItemsPurchased</th>\n",
       "      <th>CostPerItem</th>\n",
       "    </tr>\n",
       "  </thead>\n",
       "  <tbody>\n",
       "    <tr>\n",
       "      <th>0</th>\n",
       "      <td>Sat Feb 02 12:50:00 IST 2019</td>\n",
       "      <td>FAMILY ALBUM WHITE PICTURE FRAME</td>\n",
       "      <td>United Kingdom</td>\n",
       "      <td>278166</td>\n",
       "      <td>6355745</td>\n",
       "      <td>465549</td>\n",
       "      <td>6</td>\n",
       "      <td>11.73</td>\n",
       "    </tr>\n",
       "    <tr>\n",
       "      <th>1</th>\n",
       "      <td>Wed Dec 26 09:06:00 IST 2018</td>\n",
       "      <td>LONDON BUS COFFEE MUG</td>\n",
       "      <td>United Kingdom</td>\n",
       "      <td>337701</td>\n",
       "      <td>6283376</td>\n",
       "      <td>482370</td>\n",
       "      <td>3</td>\n",
       "      <td>3.52</td>\n",
       "    </tr>\n",
       "    <tr>\n",
       "      <th>2</th>\n",
       "      <td>Fri Feb 15 09:45:00 IST 2019</td>\n",
       "      <td>SET 12 COLOUR PENCILS DOLLY GIRL</td>\n",
       "      <td>France</td>\n",
       "      <td>267099</td>\n",
       "      <td>6385599</td>\n",
       "      <td>490728</td>\n",
       "      <td>72</td>\n",
       "      <td>0.90</td>\n",
       "    </tr>\n",
       "    <tr>\n",
       "      <th>3</th>\n",
       "      <td>Fri Jun 22 07:14:00 IST 2018</td>\n",
       "      <td>UNION JACK FLAG LUGGAGE TAG</td>\n",
       "      <td>United Kingdom</td>\n",
       "      <td>380478</td>\n",
       "      <td>6044973</td>\n",
       "      <td>459186</td>\n",
       "      <td>3</td>\n",
       "      <td>1.73</td>\n",
       "    </tr>\n",
       "    <tr>\n",
       "      <th>4</th>\n",
       "      <td>Mon Sep 10 11:58:00 IST 2018</td>\n",
       "      <td>WASHROOM METAL SIGN</td>\n",
       "      <td>United Kingdom</td>\n",
       "      <td>-1</td>\n",
       "      <td>6143225</td>\n",
       "      <td>1733592</td>\n",
       "      <td>3</td>\n",
       "      <td>3.40</td>\n",
       "    </tr>\n",
       "  </tbody>\n",
       "</table>\n",
       "</div>"
      ],
      "text/plain": [
       "                TransactionTime                    ItemDescription  \\\n",
       "0  Sat Feb 02 12:50:00 IST 2019   FAMILY ALBUM WHITE PICTURE FRAME   \n",
       "1  Wed Dec 26 09:06:00 IST 2018              LONDON BUS COFFEE MUG   \n",
       "2  Fri Feb 15 09:45:00 IST 2019  SET 12 COLOUR PENCILS DOLLY GIRL    \n",
       "3  Fri Jun 22 07:14:00 IST 2018        UNION JACK FLAG LUGGAGE TAG   \n",
       "4  Mon Sep 10 11:58:00 IST 2018                WASHROOM METAL SIGN   \n",
       "\n",
       "          Country  UserId  TransactionId  ItemCode  NumberOfItemsPurchased  \\\n",
       "0  United Kingdom  278166        6355745    465549                       6   \n",
       "1  United Kingdom  337701        6283376    482370                       3   \n",
       "2          France  267099        6385599    490728                      72   \n",
       "3  United Kingdom  380478        6044973    459186                       3   \n",
       "4  United Kingdom      -1        6143225   1733592                       3   \n",
       "\n",
       "   CostPerItem  \n",
       "0        11.73  \n",
       "1         3.52  \n",
       "2         0.90  \n",
       "3         1.73  \n",
       "4         3.40  "
      ]
     },
     "execution_count": 27,
     "metadata": {},
     "output_type": "execute_result"
    }
   ],
   "source": [
    "df = pd.read_csv(\"data_cleaned.csv\")\n",
    "df.head()"
   ]
  },
  {
   "cell_type": "code",
   "execution_count": 28,
   "metadata": {},
   "outputs": [],
   "source": [
    "df_num = df.loc[:, 'UserId':]"
   ]
  },
  {
   "cell_type": "code",
   "execution_count": 29,
   "metadata": {},
   "outputs": [
    {
     "data": {
      "text/html": [
       "<div>\n",
       "<style scoped>\n",
       "    .dataframe tbody tr th:only-of-type {\n",
       "        vertical-align: middle;\n",
       "    }\n",
       "\n",
       "    .dataframe tbody tr th {\n",
       "        vertical-align: top;\n",
       "    }\n",
       "\n",
       "    .dataframe thead th {\n",
       "        text-align: right;\n",
       "    }\n",
       "</style>\n",
       "<table border=\"1\" class=\"dataframe\">\n",
       "  <thead>\n",
       "    <tr style=\"text-align: right;\">\n",
       "      <th></th>\n",
       "      <th>UserId</th>\n",
       "      <th>TransactionId</th>\n",
       "      <th>ItemCode</th>\n",
       "      <th>NumberOfItemsPurchased</th>\n",
       "      <th>CostPerItem</th>\n",
       "    </tr>\n",
       "  </thead>\n",
       "  <tbody>\n",
       "    <tr>\n",
       "      <th>count</th>\n",
       "      <td>535118.000000</td>\n",
       "      <td>5.351180e+05</td>\n",
       "      <td>5.351180e+05</td>\n",
       "      <td>535118.000000</td>\n",
       "      <td>5.351180e+05</td>\n",
       "    </tr>\n",
       "    <tr>\n",
       "      <th>mean</th>\n",
       "      <td>240816.018258</td>\n",
       "      <td>6.159312e+06</td>\n",
       "      <td>6.576364e+05</td>\n",
       "      <td>29.016845</td>\n",
       "      <td>9.586187e+00</td>\n",
       "    </tr>\n",
       "    <tr>\n",
       "      <th>std</th>\n",
       "      <td>142333.532611</td>\n",
       "      <td>1.475318e+05</td>\n",
       "      <td>4.520824e+05</td>\n",
       "      <td>657.219445</td>\n",
       "      <td>2.322739e+03</td>\n",
       "    </tr>\n",
       "    <tr>\n",
       "      <th>min</th>\n",
       "      <td>-1.000000</td>\n",
       "      <td>5.900015e+06</td>\n",
       "      <td>-1.000000e+00</td>\n",
       "      <td>-242985.000000</td>\n",
       "      <td>-1.526564e+04</td>\n",
       "    </tr>\n",
       "    <tr>\n",
       "      <th>25%</th>\n",
       "      <td>259329.000000</td>\n",
       "      <td>6.026856e+06</td>\n",
       "      <td>4.609290e+05</td>\n",
       "      <td>3.000000</td>\n",
       "      <td>1.730000e+00</td>\n",
       "    </tr>\n",
       "    <tr>\n",
       "      <th>50%</th>\n",
       "      <td>301560.000000</td>\n",
       "      <td>6.166490e+06</td>\n",
       "      <td>4.752930e+05</td>\n",
       "      <td>9.000000</td>\n",
       "      <td>2.880000e+00</td>\n",
       "    </tr>\n",
       "    <tr>\n",
       "      <th>75%</th>\n",
       "      <td>341082.000000</td>\n",
       "      <td>6.288975e+06</td>\n",
       "      <td>4.889010e+05</td>\n",
       "      <td>30.000000</td>\n",
       "      <td>5.700000e+00</td>\n",
       "    </tr>\n",
       "    <tr>\n",
       "      <th>max</th>\n",
       "      <td>384027.000000</td>\n",
       "      <td>6.397457e+06</td>\n",
       "      <td>1.894494e+06</td>\n",
       "      <td>242985.000000</td>\n",
       "      <td>1.696285e+06</td>\n",
       "    </tr>\n",
       "  </tbody>\n",
       "</table>\n",
       "</div>"
      ],
      "text/plain": [
       "              UserId  TransactionId      ItemCode  NumberOfItemsPurchased  \\\n",
       "count  535118.000000   5.351180e+05  5.351180e+05           535118.000000   \n",
       "mean   240816.018258   6.159312e+06  6.576364e+05               29.016845   \n",
       "std    142333.532611   1.475318e+05  4.520824e+05              657.219445   \n",
       "min        -1.000000   5.900015e+06 -1.000000e+00          -242985.000000   \n",
       "25%    259329.000000   6.026856e+06  4.609290e+05                3.000000   \n",
       "50%    301560.000000   6.166490e+06  4.752930e+05                9.000000   \n",
       "75%    341082.000000   6.288975e+06  4.889010e+05               30.000000   \n",
       "max    384027.000000   6.397457e+06  1.894494e+06           242985.000000   \n",
       "\n",
       "        CostPerItem  \n",
       "count  5.351180e+05  \n",
       "mean   9.586187e+00  \n",
       "std    2.322739e+03  \n",
       "min   -1.526564e+04  \n",
       "25%    1.730000e+00  \n",
       "50%    2.880000e+00  \n",
       "75%    5.700000e+00  \n",
       "max    1.696285e+06  "
      ]
     },
     "execution_count": 29,
     "metadata": {},
     "output_type": "execute_result"
    }
   ],
   "source": [
    "df_num.describe()"
   ]
  },
  {
   "cell_type": "markdown",
   "metadata": {},
   "source": [
    "### Analysis of Distribution"
   ]
  },
  {
   "cell_type": "code",
   "execution_count": 30,
   "metadata": {},
   "outputs": [
    {
     "data": {
      "image/png": "[encoded data removed]",
      "text/plain": [
       "<Figure size 864x288 with 1 Axes>"
      ]
     },
     "metadata": {
      "needs_background": "light"
     },
     "output_type": "display_data"
    }
   ],
   "source": [
    "fig = plt.figure(1, (12, 4))\n",
    "ax = plt.subplot(1,1,1)\n",
    "sns.boxplot(x=\"variable\", y=\"value\", data=pd.melt(df_num))\n",
    "plt.xlabel(None)\n",
    "plt.ylabel(None)\n",
    "plt.show()"
   ]
  },
  {
   "cell_type": "code",
   "execution_count": 33,
   "metadata": {},
   "outputs": [
    {
     "data": {
      "image/png": "[encoded data removed]",
      "text/plain": [
       "<Figure size 432x288 with 2 Axes>"
      ]
     },
     "metadata": {
      "needs_background": "light"
     },
     "output_type": "display_data"
    }
   ],
   "source": [
    "sns.heatmap(df_num.corr(method='spearman'), annot = True, vmin = -1, vmax = 1, center = 0, cmap = 'coolwarm')\n",
    "plt.show()"
   ]
  },
  {
   "cell_type": "code",
   "execution_count": null,
   "metadata": {},
   "outputs": [],
   "source": []
  }
 ],
 "metadata": {
  "kernelspec": {
   "display_name": "Python 3",
   "language": "python",
   "name": "python3"
  },
  "language_info": {
   "codemirror_mode": {
    "name": "ipython",
    "version": 3
   },
   "file_extension": ".py",
   "mimetype": "text/x-python",
   "name": "python",
   "nbconvert_exporter": "python",
   "pygments_lexer": "ipython3",
   "version": "3.7.3"
  }
 },
 "nbformat": 4,
 "nbformat_minor": 2
}
